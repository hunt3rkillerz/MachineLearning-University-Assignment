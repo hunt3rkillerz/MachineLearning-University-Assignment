{
 "cells": [
  {
   "cell_type": "code",
   "execution_count": 1,
   "metadata": {},
   "outputs": [
    {
     "name": "stderr",
     "output_type": "stream",
     "text": [
      "Using TensorFlow backend.\n"
     ]
    }
   ],
   "source": [
    "import os, skimage.io,matplotlib.pyplot as plt, numpy as np\n",
    "from sklearn.model_selection import train_test_split\n",
    "from sklearn.model_selection import StratifiedKFold\n",
    "from keras.models import Sequential\n",
    "from keras.layers.core import Dense, Activation\n",
    "from keras.utils import np_utils"
   ]
  },
  {
   "cell_type": "code",
   "execution_count": 2,
   "metadata": {},
   "outputs": [],
   "source": [
    "#This file must be placed within the MNIST dataset to be loaded correctly\n",
    "def load_data(data_directory):\n",
    "    directories = [d for d in os.listdir(data_directory)\n",
    "    if os.path.isdir(os.path.join(data_directory, d))]\n",
    "    labels = []\n",
    "    images = []\n",
    "    for d in directories:\n",
    "        label_directory = os.path.join(data_directory, d)\n",
    "        file_names = [os.path.join(label_directory, f)\n",
    "        for f in os.listdir(label_directory)]\n",
    "        for f in file_names:\n",
    "            images.append(skimage.io.imread(f))\n",
    "            labels.append(int(d))\n",
    "    return images, labels\n",
    "\n",
    "train_data_path = os.path.join(os.getcwd(),\"training\")\n",
    "test_data_path = os.path.join(os.getcwd(),\"testing\")\n",
    "images, labels = load_data(train_data_path)\n",
    "test_images,test_labels = load_data(test_data_path)\n",
    "\n",
    "images = np.asarray(images)\n",
    "test_images = np.asarray(test_images)\n",
    "labels = np.asarray(labels)\n",
    "test_labels = np.asarray(test_labels)"
   ]
  },
  {
   "cell_type": "code",
   "execution_count": 3,
   "metadata": {},
   "outputs": [],
   "source": [
    "#Splitting the training data into training and validation sets\n",
    "train_images,validation_images,train_labels,validation_labels = train_test_split(images,\n",
    "labels, train_size=0.9, test_size=0.1,random_state=0)"
   ]
  },
  {
   "cell_type": "code",
   "execution_count": 4,
   "metadata": {},
   "outputs": [],
   "source": [
    "#Flattening arrays into one dimension\n",
    "num_pixels = train_images.shape[1] * train_images.shape[2]\n",
    "train_images = train_images.reshape(train_images.shape[0],\n",
    "num_pixels).astype('float32')\n",
    "validation_images = validation_images.reshape(validation_images.shape[0],\n",
    "num_pixels).astype('float32')\n",
    "test_images = test_images.reshape(test_images.shape[0], num_pixels).astype('float32')"
   ]
  },
  {
   "cell_type": "code",
   "execution_count": 5,
   "metadata": {},
   "outputs": [],
   "source": [
    "#Normalizing the image data\n",
    "train_images = train_images/255\n",
    "validation_images = validation_images/255\n",
    "test_images = test_images/255"
   ]
  },
  {
   "cell_type": "code",
   "execution_count": 6,
   "metadata": {},
   "outputs": [],
   "source": [
    "#Turning the labels into catergories\n",
    "train_labels = np_utils.to_categorical(train_labels)\n",
    "validation_labels = np_utils.to_categorical(validation_labels)\n",
    "test_labels = np_utils.to_categorical(test_labels)\n",
    "num_classes = train_labels.shape[1]"
   ]
  },
  {
   "cell_type": "code",
   "execution_count": 7,
   "metadata": {},
   "outputs": [],
   "source": [
    "#Building the model\n",
    "numNodes = 78\n",
    "model = Sequential()\n",
    "model.add(Dense(numNodes, input_dim=num_pixels, activation='relu'))\n",
    "model.add(Dense(num_classes, activation='softmax'))\n",
    "model.compile(loss='categorical_crossentropy', optimizer='adam', metrics=['accuracy'])"
   ]
  },
  {
   "cell_type": "code",
   "execution_count": 8,
   "metadata": {},
   "outputs": [
    {
     "name": "stdout",
     "output_type": "stream",
     "text": [
      "Train on 54000 samples, validate on 6000 samples\n",
      "Epoch 1/10\n",
      "54000/54000 [==============================] - 6s 109us/step - loss: 0.5199 - acc: 0.8185 - val_loss: 0.4244 - val_acc: 0.8460\n",
      "Epoch 2/10\n",
      "54000/54000 [==============================] - 5s 95us/step - loss: 0.3946 - acc: 0.8592 - val_loss: 0.4026 - val_acc: 0.8567\n",
      "Epoch 3/10\n",
      "54000/54000 [==============================] - 5s 94us/step - loss: 0.3581 - acc: 0.8706 - val_loss: 0.3935 - val_acc: 0.8582\n",
      "Epoch 4/10\n",
      "54000/54000 [==============================] - 5s 94us/step - loss: 0.3328 - acc: 0.8786 - val_loss: 0.3616 - val_acc: 0.8727\n",
      "Epoch 5/10\n",
      "54000/54000 [==============================] - 5s 94us/step - loss: 0.3141 - acc: 0.8853 - val_loss: 0.3408 - val_acc: 0.8767\n",
      "Epoch 6/10\n",
      "54000/54000 [==============================] - 5s 94us/step - loss: 0.2996 - acc: 0.8904 - val_loss: 0.3294 - val_acc: 0.8785\n",
      "Epoch 7/10\n",
      "54000/54000 [==============================] - 5s 93us/step - loss: 0.2854 - acc: 0.8958 - val_loss: 0.3536 - val_acc: 0.8703\n",
      "Epoch 8/10\n",
      "54000/54000 [==============================] - 5s 94us/step - loss: 0.2773 - acc: 0.8980 - val_loss: 0.3301 - val_acc: 0.8795\n",
      "Epoch 9/10\n",
      "54000/54000 [==============================] - 5s 94us/step - loss: 0.2678 - acc: 0.9009 - val_loss: 0.3303 - val_acc: 0.8808\n",
      "Epoch 10/10\n",
      "54000/54000 [==============================] - 5s 97us/step - loss: 0.2597 - acc: 0.9044 - val_loss: 0.3189 - val_acc: 0.8852\n"
     ]
    }
   ],
   "source": [
    "#Training the model\n",
    "history = model.fit(train_images, train_labels, validation_data=(validation_images,validation_labels), epochs=10)\n",
    "training_accuracy = history.history['acc']\n",
    "validation_accuracy = history.history['val_acc']\n",
    "training_error = history.history['loss']\n",
    "validation_error = history.history['val_loss']"
   ]
  },
  {
   "cell_type": "code",
   "execution_count": 9,
   "metadata": {},
   "outputs": [
    {
     "name": "stdout",
     "output_type": "stream",
     "text": [
      "Avg: 1.5222222222222237\n"
     ]
    }
   ],
   "source": [
    "#Finding the average difference between training and validation accuracy\n",
    "sumDiff = 0;\n",
    "for i in range(0, len(training_accuracy)):\n",
    "    sumDiff += abs(training_accuracy[i] - validation_accuracy[i])\n",
    "\n",
    "avgDiff = sumDiff / len(training_accuracy)\n",
    "\n",
    "print (\"Avg:\", avgDiff * 100)"
   ]
  },
  {
   "cell_type": "code",
   "execution_count": 10,
   "metadata": {},
   "outputs": [
    {
     "data": {
      "image/png": "[encoded data removed]",
      "text/plain": [
       "<Figure size 432x288 with 1 Axes>"
      ]
     },
     "metadata": {
      "needs_background": "light"
     },
     "output_type": "display_data"
    },
    {
     "data": {
      "image/png": "[encoded data removed]",
      "text/plain": [
       "<Figure size 576x432 with 1 Axes>"
      ]
     },
     "metadata": {
      "needs_background": "light"
     },
     "output_type": "display_data"
    }
   ],
   "source": [
    "#Plotting accuracy and loss\n",
    "plt.figure(0)\n",
    "plt.plot(training_accuracy,'r')\n",
    "plt.plot(validation_accuracy,'g')\n",
    "plt.xticks(np.arange(0, len(training_accuracy), 2.0))\n",
    "plt.rcParams['figure.figsize'] = (8, 6)\n",
    "plt.xlabel(\"Num of Epochs\")\n",
    "plt.ylabel(\"Accuracy\")\n",
    "plt.title(\"Training Accuracy vs Validation Accuracy (\"+str(numNodes)+\" Hidden Nodes)\")\n",
    "plt.legend(['train','validation'])\n",
    "\n",
    "plt.figure(1)\n",
    "plt.plot(training_error,'r')\n",
    "plt.plot(validation_error,'g')\n",
    "plt.xticks(np.arange(0, len(training_accuracy), 2.0))\n",
    "plt.rcParams['figure.figsize'] = (8, 6)\n",
    "plt.xlabel(\"Num of Epochs\")\n",
    "plt.ylabel(\"Loss\")\n",
    "plt.title(\"Training Loss vs Validation Loss (\"+str(numNodes)+\" Hidden Nodes)\")\n",
    "plt.legend(['train','validation'])\n",
    "\n",
    "plt.show()"
   ]
  },
  {
   "cell_type": "code",
   "execution_count": 11,
   "metadata": {},
   "outputs": [
    {
     "name": "stdout",
     "output_type": "stream",
     "text": [
      "MLP Error on test set: 12.18%\n",
      "MLP Accuracy on test set: 87.82%\n"
     ]
    }
   ],
   "source": [
    "#Testing performance on the unseen test data\n",
    "scores = model.evaluate(test_images, test_labels, verbose=0)\n",
    "print(\"MLP Error on test set: %.2f%%\" % (100-scores[1]*100))\n",
    "print(\"MLP Accuracy on test set: %.2f%%\" % (scores[1]*100))"
   ]
  },
  {
   "cell_type": "code",
   "execution_count": 12,
   "metadata": {},
   "outputs": [],
   "source": [
    "images = images.reshape(images.shape[0], num_pixels).astype('float32')\n",
    "images = images/255\n",
    "temp_labels = labels\n",
    "labels = np_utils.to_categorical(labels)"
   ]
  },
  {
   "cell_type": "code",
   "execution_count": 16,
   "metadata": {},
   "outputs": [
    {
     "name": "stdout",
     "output_type": "stream",
     "text": [
      "acc: 89.04%\n",
      "acc: 88.62%\n",
      "acc: 88.79%\n",
      "acc: 88.76%\n",
      "acc: 88.02%\n",
      "Cross Validation Accuracy 88.65% (+/- 0.34%)\n",
      "Cross Validation Error 11.35% (+/- 0.34%)\n",
      "MLP Error on test set: 12.73%\n",
      "MLP Accuracy on test set: 87.27%\n"
     ]
    }
   ],
   "source": [
    "#Creating the KFold\n",
    "kfold = StratifiedKFold(n_splits=5, shuffle=True)\n",
    "cv_acc = []\n",
    "cv_error = []\n",
    "\n",
    "#Iterating through the different folds\n",
    "for train, test in kfold.split(images, temp_labels):\n",
    " #Creating the model\n",
    " model = Sequential()\n",
    " model.add(Dense(784, input_dim=num_pixels, activation='relu'))\n",
    " model.add(Dense(num_classes, activation='softmax'))\n",
    " model.compile(loss='categorical_crossentropy', optimizer='adam', metrics=['accuracy'])\n",
    "\n",
    " # Fit the model\n",
    " model.fit(images[train], labels[train], epochs=10, verbose=0)\n",
    " # evaluate the model\n",
    " scores = model.evaluate(images[test], labels[test], verbose=0)\n",
    " print(\"%s: %.2f%%\" % (model.metrics_names[1], scores[1]*100))\n",
    " cv_acc.append(scores[1] * 100)\n",
    " cv_error.append(100-scores[1] * 100)\n",
    "\n",
    "#Evaluate on the Cross validated sets\n",
    "print(\"Cross Validation Accuracy %.2f%% (+/- %.2f%%)\" % (np.mean(cv_acc),\n",
    "np.std(cv_acc)))\n",
    "print(\"Cross Validation Error %.2f%% (+/- %.2f%%)\" % (np.mean(cv_error),\n",
    "np.std(cv_error)))\n",
    "\n",
    "#Evaluate on the test set\n",
    "scores = model.evaluate(test_images, test_labels, verbose=0)\n",
    "print(\"MLP Error on test set: %.2f%%\" % (100-scores[1]*100))\n",
    "print(\"MLP Accuracy on test set: %.2f%%\" % (scores[1]*100))"
   ]
  },
  {
   "cell_type": "code",
   "execution_count": 14,
   "metadata": {},
   "outputs": [
    {
     "data": {
      "image/png": "[encoded data removed]",
      "text/plain": [
       "<Figure size 576x432 with 1 Axes>"
      ]
     },
     "metadata": {
      "needs_background": "light"
     },
     "output_type": "display_data"
    }
   ],
   "source": [
    "#0\tT-shirt/top\n",
    "#1\tTrouser\n",
    "#2\tPullover\n",
    "#3\tDress\n",
    "#4\tCoat\n",
    "#5\tSandal\n",
    "#6\tShirt\n",
    "#7\tSneaker\n",
    "#8\tBag\n",
    "#9\tAnkle boot\n",
    "\n",
    "#Testing the model on a random image\n",
    "import random\n",
    "image_index = random.randint(0,test_images.shape[0])\n",
    "random_image = test_images[image_index]\n",
    "random_label = model.predict(random_image.reshape(1,random_image.shape[0])).argmax(axis=-1)\n",
    "\n",
    "#Plot the tested image and its predicted catergory\n",
    "plt.subplot(121)\n",
    "plt.imshow(random_image.reshape(28,28), cmap=plt.get_cmap('gray'))\n",
    "plt.title(\"Predicted Category: \"+str(random_label))\n",
    "plt.show()"
   ]
  },
  {
   "cell_type": "code",
   "execution_count": 15,
   "metadata": {},
   "outputs": [],
   "source": [
    "#Visualizing the model, doesn't work properly because of the size of the network\n",
    "#from ann_visualizer.visualize import ann_viz;\n",
    "#ann_viz(model, title=\"78 Hidden Nodes\")"
   ]
  },
  {
   "cell_type": "code",
   "execution_count": 17,
   "metadata": {},
   "outputs": [
    {
     "name": "stdout",
     "output_type": "stream",
     "text": [
      "78\n",
      "Train on 54000 samples, validate on 6000 samples\n",
      "Epoch 1/10\n",
      "54000/54000 [==============================] - 10s 186us/step - loss: 0.5214 - acc: 0.8194 - val_loss: 0.4328 - val_acc: 0.8420\n",
      "Epoch 2/10\n",
      "54000/54000 [==============================] - 6s 114us/step - loss: 0.3882 - acc: 0.8604 - val_loss: 0.3686 - val_acc: 0.8647\n",
      "Epoch 3/10\n",
      "54000/54000 [==============================] - 6s 111us/step - loss: 0.3510 - acc: 0.8746 - val_loss: 0.3786 - val_acc: 0.8633\n",
      "Epoch 4/10\n",
      "54000/54000 [==============================] - 6s 111us/step - loss: 0.3289 - acc: 0.8808 - val_loss: 0.3389 - val_acc: 0.8722\n",
      "Epoch 5/10\n",
      "54000/54000 [==============================] - 6s 110us/step - loss: 0.3100 - acc: 0.8879 - val_loss: 0.3376 - val_acc: 0.8793\n",
      "Epoch 6/10\n",
      "54000/54000 [==============================] - 6s 109us/step - loss: 0.2957 - acc: 0.8920 - val_loss: 0.3315 - val_acc: 0.8798\n",
      "Epoch 7/10\n",
      "54000/54000 [==============================] - 6s 110us/step - loss: 0.2813 - acc: 0.8976 - val_loss: 0.3289 - val_acc: 0.8797\n",
      "Epoch 8/10\n",
      "54000/54000 [==============================] - 6s 112us/step - loss: 0.2731 - acc: 0.9004 - val_loss: 0.3260 - val_acc: 0.8833\n",
      "Epoch 9/10\n",
      "54000/54000 [==============================] - 6s 112us/step - loss: 0.2614 - acc: 0.9032 - val_loss: 0.3207 - val_acc: 0.8857\n",
      "Epoch 10/10\n",
      "54000/54000 [==============================] - 6s 108us/step - loss: 0.2529 - acc: 0.9084 - val_loss: 0.3655 - val_acc: 0.8700\n",
      "MLP Error on test set: 13.41%\n",
      "MLP Accuracy on test set: 86.59%\n",
      "254\n",
      "Train on 54000 samples, validate on 6000 samples\n",
      "Epoch 1/10\n",
      "54000/54000 [==============================] - 15s 276us/step - loss: 0.4954 - acc: 0.8231 - val_loss: 0.4059 - val_acc: 0.8587\n",
      "Epoch 2/10\n",
      "54000/54000 [==============================] - 14s 259us/step - loss: 0.3692 - acc: 0.8658 - val_loss: 0.3766 - val_acc: 0.8603\n",
      "Epoch 3/10\n",
      "54000/54000 [==============================] - 14s 262us/step - loss: 0.3303 - acc: 0.8800 - val_loss: 0.3589 - val_acc: 0.8662\n",
      "Epoch 4/10\n",
      "54000/54000 [==============================] - 14s 261us/step - loss: 0.3086 - acc: 0.8878 - val_loss: 0.3374 - val_acc: 0.8745\n",
      "Epoch 5/10\n",
      "54000/54000 [==============================] - 14s 257us/step - loss: 0.2882 - acc: 0.8936 - val_loss: 0.3161 - val_acc: 0.8808\n",
      "Epoch 6/10\n",
      "54000/54000 [==============================] - 14s 251us/step - loss: 0.2721 - acc: 0.8987 - val_loss: 0.3433 - val_acc: 0.8802\n",
      "Epoch 7/10\n",
      "54000/54000 [==============================] - 13s 246us/step - loss: 0.2579 - acc: 0.9035 - val_loss: 0.3276 - val_acc: 0.8818\n",
      "Epoch 8/10\n",
      "54000/54000 [==============================] - 13s 241us/step - loss: 0.2481 - acc: 0.9076 - val_loss: 0.3273 - val_acc: 0.8853\n",
      "Epoch 9/10\n",
      "54000/54000 [==============================] - 13s 239us/step - loss: 0.2383 - acc: 0.9119 - val_loss: 0.3025 - val_acc: 0.8918\n",
      "Epoch 10/10\n",
      "54000/54000 [==============================] - 13s 240us/step - loss: 0.2274 - acc: 0.9144 - val_loss: 0.3269 - val_acc: 0.8843\n",
      "MLP Error on test set: 11.57%\n",
      "MLP Accuracy on test set: 88.43%\n",
      "431\n",
      "Train on 54000 samples, validate on 6000 samples\n",
      "Epoch 1/10\n",
      "54000/54000 [==============================] - 24s 438us/step - loss: 0.4820 - acc: 0.8272 - val_loss: 0.3958 - val_acc: 0.8572\n",
      "Epoch 2/10\n",
      "54000/54000 [==============================] - 24s 449us/step - loss: 0.3643 - acc: 0.8666 - val_loss: 0.3596 - val_acc: 0.8632\n",
      "Epoch 3/10\n",
      "54000/54000 [==============================] - 23s 425us/step - loss: 0.3257 - acc: 0.8803 - val_loss: 0.3321 - val_acc: 0.8778\n",
      "Epoch 4/10\n",
      "54000/54000 [==============================] - 22s 416us/step - loss: 0.3005 - acc: 0.8886 - val_loss: 0.3437 - val_acc: 0.8668\n",
      "Epoch 5/10\n",
      "54000/54000 [==============================] - 23s 429us/step - loss: 0.2822 - acc: 0.8947 - val_loss: 0.3171 - val_acc: 0.8808\n",
      "Epoch 6/10\n",
      "54000/54000 [==============================] - 23s 417us/step - loss: 0.2674 - acc: 0.9006 - val_loss: 0.3065 - val_acc: 0.8852\n",
      "Epoch 7/10\n",
      "54000/54000 [==============================] - 24s 451us/step - loss: 0.2522 - acc: 0.9052 - val_loss: 0.3260 - val_acc: 0.8827\n",
      "Epoch 8/10\n",
      "54000/54000 [==============================] - 23s 425us/step - loss: 0.2409 - acc: 0.9098 - val_loss: 0.3002 - val_acc: 0.8897\n",
      "Epoch 9/10\n",
      "54000/54000 [==============================] - 23s 422us/step - loss: 0.2320 - acc: 0.9124 - val_loss: 0.3076 - val_acc: 0.8898\n",
      "Epoch 10/10\n",
      "54000/54000 [==============================] - 23s 419us/step - loss: 0.2202 - acc: 0.9173 - val_loss: 0.3184 - val_acc: 0.8853\n",
      "MLP Error on test set: 12.11%\n",
      "MLP Accuracy on test set: 87.89%\n",
      "608\n",
      "Train on 54000 samples, validate on 6000 samples\n",
      "Epoch 1/10\n",
      "54000/54000 [==============================] - 33s 619us/step - loss: 0.4826 - acc: 0.8279 - val_loss: 0.4095 - val_acc: 0.8482\n",
      "Epoch 2/10\n",
      "54000/54000 [==============================] - 31s 565us/step - loss: 0.3619 - acc: 0.8670 - val_loss: 0.3583 - val_acc: 0.8742\n",
      "Epoch 3/10\n",
      "54000/54000 [==============================] - 30s 562us/step - loss: 0.3237 - acc: 0.8817 - val_loss: 0.3421 - val_acc: 0.8722\n",
      "Epoch 4/10\n",
      "54000/54000 [==============================] - 29s 541us/step - loss: 0.3018 - acc: 0.8877 - val_loss: 0.3331 - val_acc: 0.8747\n",
      "Epoch 5/10\n",
      "54000/54000 [==============================] - 30s 557us/step - loss: 0.2814 - acc: 0.8952 - val_loss: 0.3317 - val_acc: 0.8828\n",
      "Epoch 6/10\n",
      "54000/54000 [==============================] - 29s 540us/step - loss: 0.2668 - acc: 0.9013 - val_loss: 0.3189 - val_acc: 0.8863\n",
      "Epoch 7/10\n",
      "54000/54000 [==============================] - 29s 544us/step - loss: 0.2544 - acc: 0.9050 - val_loss: 0.3113 - val_acc: 0.8875\n",
      "Epoch 8/10\n",
      "54000/54000 [==============================] - 30s 548us/step - loss: 0.2431 - acc: 0.9084 - val_loss: 0.3151 - val_acc: 0.8932\n",
      "Epoch 9/10\n",
      "54000/54000 [==============================] - 31s 581us/step - loss: 0.2328 - acc: 0.9130 - val_loss: 0.3179 - val_acc: 0.8880\n",
      "Epoch 10/10\n",
      "54000/54000 [==============================] - 29s 534us/step - loss: 0.2233 - acc: 0.9165 - val_loss: 0.3067 - val_acc: 0.8932\n",
      "MLP Error on test set: 11.90%\n",
      "MLP Accuracy on test set: 88.10%\n",
      "784\n",
      "Train on 54000 samples, validate on 6000 samples\n",
      "Epoch 1/10\n",
      "54000/54000 [==============================] - 37s 694us/step - loss: 0.4802 - acc: 0.8286 - val_loss: 0.3954 - val_acc: 0.8523\n",
      "Epoch 2/10\n",
      "54000/54000 [==============================] - 37s 686us/step - loss: 0.3652 - acc: 0.8657 - val_loss: 0.3594 - val_acc: 0.8710\n",
      "Epoch 3/10\n",
      "54000/54000 [==============================] - 36s 671us/step - loss: 0.3263 - acc: 0.8802 - val_loss: 0.3839 - val_acc: 0.8668\n",
      "Epoch 4/10\n",
      "54000/54000 [==============================] - 38s 702us/step - loss: 0.3017 - acc: 0.8882 - val_loss: 0.3143 - val_acc: 0.8805\n",
      "Epoch 5/10\n",
      "54000/54000 [==============================] - 37s 685us/step - loss: 0.2853 - acc: 0.8947 - val_loss: 0.3641 - val_acc: 0.8628\n",
      "Epoch 6/10\n",
      "54000/54000 [==============================] - 37s 684us/step - loss: 0.2666 - acc: 0.9015 - val_loss: 0.3110 - val_acc: 0.8863\n",
      "Epoch 7/10\n",
      "54000/54000 [==============================] - 37s 684us/step - loss: 0.2529 - acc: 0.9060 - val_loss: 0.3044 - val_acc: 0.8882\n",
      "Epoch 8/10\n",
      "54000/54000 [==============================] - 39s 724us/step - loss: 0.2420 - acc: 0.9091 - val_loss: 0.3228 - val_acc: 0.8860\n",
      "Epoch 9/10\n",
      "54000/54000 [==============================] - 46s 854us/step - loss: 0.2291 - acc: 0.9142 - val_loss: 0.3050 - val_acc: 0.8895\n",
      "Epoch 10/10\n",
      "54000/54000 [==============================] - 42s 781us/step - loss: 0.2214 - acc: 0.9168 - val_loss: 0.3048 - val_acc: 0.8925\n",
      "MLP Error on test set: 11.28%\n",
      "MLP Accuracy on test set: 88.72%\n"
     ]
    }
   ],
   "source": [
    "#Evaluating each model on the test data\n",
    "numNodes = [78, 254, 431, 608, 784]\n",
    "i = 0\n",
    "while i < 5:\n",
    "    print(numNodes[i])\n",
    "    model = Sequential()\n",
    "    model.add(Dense(numNodes[i], input_dim=num_pixels, activation='relu'))\n",
    "    model.add(Dense(num_classes, activation='softmax'))\n",
    "    model.compile(loss='categorical_crossentropy', optimizer='adam', metrics=['accuracy'])\n",
    "\n",
    "    #Training the model\n",
    "    history = model.fit(train_images, train_labels, validation_data=(validation_images,validation_labels), epochs=10)\n",
    "    training_accuracy = history.history['acc']\n",
    "    validation_accuracy = history.history['val_acc']\n",
    "    training_error = history.history['loss']\n",
    "    validation_error = history.history['val_loss']\n",
    "\n",
    "    #Evaluate on the test set\n",
    "    scores = model.evaluate(test_images, test_labels, verbose=0)\n",
    "    print(\"MLP Error on test set: %.2f%%\" % (100-scores[1]*100))\n",
    "    print(\"MLP Accuracy on test set: %.2f%%\" % (scores[1]*100))\n",
    "    i = i + 1"
   ]
  },
  {
   "cell_type": "code",
   "execution_count": null,
   "metadata": {},
   "outputs": [],
   "source": []
  }
 ],
 "metadata": {
  "kernelspec": {
   "display_name": "Python 3",
   "language": "python",
   "name": "python3"
  },
  "language_info": {
   "codemirror_mode": {
    "name": "ipython",
    "version": 3
   },
   "file_extension": ".py",
   "mimetype": "text/x-python",
   "name": "python",
   "nbconvert_exporter": "python",
   "pygments_lexer": "ipython3",
   "version": "3.5.6"
  }
 },
 "nbformat": 4,
 "nbformat_minor": 2
}
